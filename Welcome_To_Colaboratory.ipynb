{
  "nbformat": 4,
  "nbformat_minor": 0,
  "metadata": {
    "colab": {
      "name": "Welcome To Colaboratory",
      "provenance": [],
      "collapsed_sections": [],
      "toc_visible": true,
      "include_colab_link": true
    },
    "kernelspec": {
      "display_name": "Python 3",
      "name": "python3"
    }
  },
  "cells": [
    {
      "cell_type": "markdown",
      "metadata": {
        "id": "view-in-github",
        "colab_type": "text"
      },
      "source": [
        "<a href=\"https://colab.research.google.com/github/MarkeyArnault/Markey/blob/main/Welcome_To_Colaboratory.ipynb\" target=\"_parent\"><img src=\"https://colab.research.google.com/assets/colab-badge.svg\" alt=\"Open In Colab\"/></a>"
      ]
    },
    {
      "cell_type": "markdown",
      "metadata": {
        "id": "nW9qUlsw6rm1"
      },
      "source": [
        "#Software Company"
      ]
    },
    {
      "cell_type": "code",
      "metadata": {
        "colab": {
          "base_uri": "https://localhost:8080/"
        },
        "id": "zZ9KlWH86wlR",
        "outputId": "17337c4a-7a83-4414-92ba-7701b8067f95"
      },
      "source": [
        "package = 99\n",
        "quantity = int(input(\"how many would you like to purchase?\\n\"))\n",
        "discount = 0\n",
        "if quantity >= 10 and quantity <= 19: \n",
        "    discount = .1\n",
        "elif quantity >= 20 and quantity <= 49:\n",
        "    discount = .2\n",
        "elif quantity >= 50 and quantity <= 100:\n",
        "    discount = .3\n",
        "elif quantity >= 100:\n",
        "    discount = .4\n",
        "\n",
        "total_amount = package*quantity*(1-discount)\n",
        "\n",
        "print(\"the discount saved is\" , discount*100,\"%\")\n",
        "print(\"the total amount of the current cost is $\" , total_amount)"
      ],
      "execution_count": 44,
      "outputs": [
        {
          "output_type": "stream",
          "name": "stdout",
          "text": [
            "how many would you like to purchase?\n",
            "15\n",
            "the discount saved is 10.0 %\n",
            "the total amount of the current cost is $ 1336.5\n"
          ]
        }
      ]
    },
    {
      "cell_type": "code",
      "metadata": {
        "colab": {
          "base_uri": "https://localhost:8080/"
        },
        "id": "UqgwrLAB97K_",
        "outputId": "af833b6b-1cfd-4ab2-95be-0d8a9b8eafc0"
      },
      "source": [
        "weight = int(input(\"enter the weight of the package?\\n\"))\n",
        "charge = 0\n",
        "if weight <= 2:\n",
        "   charge = 1.5\n",
        "elif weight >= 3 and weight <= 5:\n",
        "   charge = 3\n",
        "elif weight >= 7 and weight <= 10:\n",
        "   charge = 4\n",
        "elif weight >= 11:\n",
        "   charge = 4.75\n",
        "total_amount = charge*weight\n",
        "print(\"the shipping charge\" , total_amount)\n",
        "\n",
        "\n",
        "\n"
      ],
      "execution_count": 86,
      "outputs": [
        {
          "output_type": "stream",
          "name": "stdout",
          "text": [
            "enter the weight of the package?\n",
            "8\n",
            "the shipping charge 32\n"
          ]
        }
      ]
    }
  ]
}