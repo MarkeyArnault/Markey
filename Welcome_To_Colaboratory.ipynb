{
  "nbformat": 4,
  "nbformat_minor": 0,
  "metadata": {
    "colab": {
      "name": "Welcome To Colaboratory",
      "provenance": [],
      "collapsed_sections": [],
      "include_colab_link": true
    },
    "kernelspec": {
      "display_name": "Python 3",
      "name": "python3"
    }
  },
  "cells": [
    {
      "cell_type": "markdown",
      "metadata": {
        "id": "view-in-github",
        "colab_type": "text"
      },
      "source": [
        "<a href=\"https://colab.research.google.com/github/MarkeyArnault/Markey/blob/main/Welcome_To_Colaboratory.ipynb\" target=\"_parent\"><img src=\"https://colab.research.google.com/assets/colab-badge.svg\" alt=\"Open In Colab\"/></a>"
      ]
    },
    {
      "cell_type": "code",
      "metadata": {
        "colab": {
          "base_uri": "https://localhost:8080/"
        },
        "id": "_FbiPTvnoFB3",
        "outputId": "1defe0cc-7335-4fac-b9b4-39bf30fed3a6"
      },
      "source": [
        "interest_rate = 0.5\n",
        "years = 10\n",
        "principal = 100\n",
        "output = principal*(1+interest_rate)**years\n",
        "print(f'the output is {output}')"
      ],
      "execution_count": 39,
      "outputs": [
        {
          "output_type": "stream",
          "name": "stdout",
          "text": [
            "the output is 5766.50390625\n"
          ]
        }
      ]
    },
    {
      "cell_type": "code",
      "metadata": {
        "colab": {
          "base_uri": "https://localhost:8080/"
        },
        "id": "jcg5ns5Mp1_2",
        "outputId": "2d2b1c80-8793-4fba-af56-242655b99f69"
      },
      "source": [
        "Fv = float(input(\"what is your target goal?\\n\"))\n",
        "years = float(input(\"how many years will you invest?\\n\"))\n",
        "interest_rate = float(input(\"what will the interest rate be?\\n\"))\n",
        "present_value = Fv/(1+interest_rate)**years\n",
        "print(\"the present value is\" , present_value)\n",
        "\n",
        " "
      ],
      "execution_count": 43,
      "outputs": [
        {
          "output_type": "stream",
          "name": "stdout",
          "text": [
            "what is your target goal?\n",
            "1000\n",
            "how many years will you invest?\n",
            "8\n",
            "what will the interest rate be?\n",
            ".11\n",
            "the present value is 433.92649629802077\n"
          ]
        }
      ]
    }
  ]
}