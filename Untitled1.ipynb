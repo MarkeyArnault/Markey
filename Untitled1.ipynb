{
  "nbformat": 4,
  "nbformat_minor": 0,
  "metadata": {
    "colab": {
      "name": "Untitled1.ipynb",
      "provenance": [],
      "toc_visible": true,
      "authorship_tag": "ABX9TyNFQzdsHiNeu+EZh3kAtP5l",
      "include_colab_link": true
    },
    "kernelspec": {
      "name": "python3",
      "display_name": "Python 3"
    },
    "language_info": {
      "name": "python"
    }
  },
  "cells": [
    {
      "cell_type": "markdown",
      "metadata": {
        "id": "view-in-github",
        "colab_type": "text"
      },
      "source": [
        "<a href=\"https://colab.research.google.com/github/MarkeyArnault/Markey/blob/main/Untitled1.ipynb\" target=\"_parent\"><img src=\"https://colab.research.google.com/assets/colab-badge.svg\" alt=\"Open In Colab\"/></a>"
      ]
    },
    {
      "cell_type": "markdown",
      "metadata": {
        "id": "snPekVDu1FTu"
      },
      "source": [
        "# Markey Arnault"
      ]
    },
    {
      "cell_type": "markdown",
      "metadata": {
        "id": "bFY8fJd32_bX"
      },
      "source": [
        " Hi there my name Markey I like to do __dj__ and play *videogame*\n"
      ]
    }
  ]
}